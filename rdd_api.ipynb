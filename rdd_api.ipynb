{
 "cells": [
  {
   "cell_type": "code",
   "execution_count": 1,
   "id": "5dd9393a-f459-4572-9cd1-840f3c241c92",
   "metadata": {},
   "outputs": [
    {
     "name": "stderr",
     "output_type": "stream",
     "text": [
      "Setting default log level to \"WARN\".\n",
      "To adjust logging level use sc.setLogLevel(newLevel). For SparkR, use setLogLevel(newLevel).\n",
      "23/12/02 21:34:07 WARN NativeCodeLoader: Unable to load native-hadoop library for your platform... using builtin-java classes where applicable\n"
     ]
    }
   ],
   "source": [
    "from pyspark.sql import SparkSession\n",
    "\n",
    "spark = SparkSession.builder.appName(\"rdd_api\").getOrCreate()"
   ]
  },
  {
   "cell_type": "code",
   "execution_count": 2,
   "id": "a1016aba",
   "metadata": {},
   "outputs": [],
   "source": [
    "sc = spark.sparkContext"
   ]
  },
  {
   "cell_type": "markdown",
   "id": "4937d096-b2ff-40bc-b63e-83bb1506f5e0",
   "metadata": {},
   "source": [
    "## List of Distinct Genres"
   ]
  },
  {
   "cell_type": "code",
   "execution_count": 26,
   "id": "6578f504-ba4d-47fb-919a-f6a0b06afb11",
   "metadata": {},
   "outputs": [],
   "source": [
    "def save_all_genres():\n",
    "    movies_rdd = spark.sparkContext.textFile('Dataset/movies.dat')\n",
    "    genres_rdd = movies_rdd.map(lambda x: x.split(\"::\")[2])\n",
    "    genres_rdd = genres_rdd.flatMap(lambda x: x.split(\"|\"))\n",
    "    distinct_genres_rdd = genres_rdd.distinct().sortBy(lambda x: x)\n",
    "    distinct_genres_rdd.saveAsTextFile(\"processed_data/distinct_genres\")"
   ]
  },
  {
   "cell_type": "code",
   "execution_count": 12,
   "id": "9f96a80c-1d8d-4903-a3e4-a91153e3c39c",
   "metadata": {},
   "outputs": [
    {
     "name": "stderr",
     "output_type": "stream",
     "text": [
      "/Users/ankitrajvanshi/opt/anaconda3/lib/python3.9/site-packages/pyspark/python/lib/pyspark.zip/pyspark/shuffle.py:65: UserWarning: Please install psutil to have better support with spilling\n",
      "  warnings.warn(\"Please install psutil to have better \" \"support with spilling\")\n",
      "/Users/ankitrajvanshi/opt/anaconda3/lib/python3.9/site-packages/pyspark/python/lib/pyspark.zip/pyspark/shuffle.py:65: UserWarning: Please install psutil to have better support with spilling\n",
      "  warnings.warn(\"Please install psutil to have better \" \"support with spilling\")\n"
     ]
    }
   ],
   "source": [
    "save_all_genres()"
   ]
  },
  {
   "cell_type": "code",
   "execution_count": 14,
   "id": "29c0bbdb",
   "metadata": {},
   "outputs": [],
   "source": [
    "def get_all_genres():\n",
    "    data = sc.textFile(\"processed_data/distinct_genres\").collect()\n",
    "    return data"
   ]
  },
  {
   "cell_type": "code",
   "execution_count": 15,
   "id": "46d84bd9",
   "metadata": {},
   "outputs": [
    {
     "name": "stdout",
     "output_type": "stream",
     "text": [
      "['Horror', 'Musical', 'Mystery', 'Romance', 'Sci-Fi', 'Thriller', 'War', 'Western', 'Action', 'Adventure', 'Animation', \"Children's\", 'Comedy', 'Crime', 'Documentary', 'Drama', 'Fantasy', 'Film-Noir']\n"
     ]
    }
   ],
   "source": [
    "print(get_all_genres())"
   ]
  },
  {
   "cell_type": "code",
   "execution_count": 27,
   "id": "097f8c90-9a83-4bf7-95c7-6d4b99204621",
   "metadata": {},
   "outputs": [],
   "source": [
    "def save_list_of_years():\n",
    "    movies_rdd = spark.sparkContext.textFile('Dataset/movies.dat')\n",
    "    title_year_rdd = movies_rdd.map(lambda x: x.split(\"::\")[1])\n",
    "    year_rdd = title_year_rdd.map(lambda x: x[-5:-1])\n",
    "    distinct_years_rdd = year_rdd.distinct().sortBy(lambda x: x)\n",
    "    distinct_years_rdd.saveAsTextFile(\"processed_data/list_of_years\")"
   ]
  },
  {
   "cell_type": "code",
   "execution_count": 19,
   "id": "f68a4d6f-d90f-4bb4-82ec-dfc740753bb6",
   "metadata": {},
   "outputs": [
    {
     "name": "stderr",
     "output_type": "stream",
     "text": [
      "/Users/ankitrajvanshi/opt/anaconda3/lib/python3.9/site-packages/pyspark/python/lib/pyspark.zip/pyspark/shuffle.py:65: UserWarning: Please install psutil to have better support with spilling\n",
      "  warnings.warn(\"Please install psutil to have better \" \"support with spilling\")\n",
      "/Users/ankitrajvanshi/opt/anaconda3/lib/python3.9/site-packages/pyspark/python/lib/pyspark.zip/pyspark/shuffle.py:65: UserWarning: Please install psutil to have better support with spilling\n",
      "  warnings.warn(\"Please install psutil to have better \" \"support with spilling\")\n"
     ]
    }
   ],
   "source": [
    "save_list_of_years()"
   ]
  },
  {
   "cell_type": "code",
   "execution_count": 28,
   "id": "e669d3a9-c446-4efb-aafb-c51582aa8b49",
   "metadata": {},
   "outputs": [],
   "source": [
    "def save_list_of_starting_letters():\n",
    "    movies_rdd = spark.sparkContext.textFile('Dataset/movies.dat')\n",
    "    title_year_rdd = movies_rdd.map(lambda x: x.split(\"::\")[1])\n",
    "    first_char_rdd = title_year_rdd.map(lambda x: x[0])\n",
    "    distinct_first_char_rdd = first_char_rdd.distinct().sortBy(lambda x: x)\n",
    "    distinct_first_char_rdd.saveAsTextFile(\"processed_data/list_of_starting_letters\")"
   ]
  },
  {
   "cell_type": "code",
   "execution_count": 24,
   "id": "dd1135d8-abf9-4802-9df9-03413c574702",
   "metadata": {},
   "outputs": [],
   "source": [
    "save_list_of_starting_letters()"
   ]
  },
  {
   "cell_type": "code",
   "execution_count": 24,
   "id": "c95c5a33-d63e-46c2-892b-34e892333a92",
   "metadata": {},
   "outputs": [],
   "source": [
    "def top_n_most_viewed_movies(num):\n",
    "    ratings_rdd = spark.sparkContext.textFile('Dataset/ratings.dat')\n",
    "    movies = ratings_rdd.map(lambda x: x.split(\"::\")[1])\n",
    "    movies = movies.map(lambda x: (x,1))\n",
    "    movies = movies.reduceByKey(lambda x,y: x + y)\n",
    "    top_num_movies = sc.parallelize(movies.sortBy(lambda x: x[1]).take(num))\n",
    "    \n",
    "    movies_rdd = spark.sparkContext.textFile('Dataset/movies.dat')\n",
    "    title_rdd = movies_rdd.map(lambda x: (x.split(\"::\")[0], x.split(\"::\")[1][:-7]))\n",
    "    top_num_movies_title = title_rdd.join(top_num_movies).sortBy(lambda x: x[1]).map(lambda x: (x[0], x[1][0]))\n",
    "    \n",
    "    top_num_movies_title.saveAsTextFile(\"processed_data/top_n_most_viewed_movies\")\n",
    "    "
   ]
  },
  {
   "cell_type": "code",
   "execution_count": 25,
   "id": "bcf98bf8",
   "metadata": {},
   "outputs": [
    {
     "name": "stderr",
     "output_type": "stream",
     "text": [
      "                                                                                \r"
     ]
    }
   ],
   "source": [
    "top_n_most_viewed_movies(10)"
   ]
  },
  {
   "cell_type": "code",
   "execution_count": 38,
   "id": "0328a3ec",
   "metadata": {},
   "outputs": [],
   "source": [
    "def get_top_n_most_viewed_movies_by_gender(num, gender):\n",
    "    \n",
    "    try:\n",
    "        data = sc.textFile(\"processed_data/top_{}_most_viewed_movies_by_{}\".format(num,gender)).collect()\n",
    "    except Exception as e:\n",
    "#         print(e)\n",
    "        error = \"top_{}_most_viewed_movies_by_{} File Not Found\".format(num, gender)\n",
    "        return error\n",
    "    \n",
    "    return data"
   ]
  },
  {
   "cell_type": "code",
   "execution_count": 39,
   "id": "031dd82f",
   "metadata": {},
   "outputs": [
    {
     "data": {
      "text/plain": [
       "'top_9_most_viewed_movies_by_M File Not Found'"
      ]
     },
     "execution_count": 39,
     "metadata": {},
     "output_type": "execute_result"
    }
   ],
   "source": [
    "get_top_n_most_viewed_movies_by_gender(9, \"M\")"
   ]
  },
  {
   "cell_type": "code",
   "execution_count": 40,
   "id": "9cba8b6c",
   "metadata": {},
   "outputs": [],
   "source": [
    "def get_top_n_most_liked_movies_by_gender(num, gender):\n",
    "    \n",
    "    try:\n",
    "        data = sc.textFile(\"processed_data/top_{}_most_liked_movies_by_{}\".format(num,gender)).collect()\n",
    "    except Exception as e:\n",
    "#         print(e)\n",
    "        error = \"top_{}_most_viewed_movies_by_{} File Not Found\".format(num, gender)\n",
    "        return error\n",
    "\n",
    "    return data"
   ]
  },
  {
   "cell_type": "code",
   "execution_count": 42,
   "id": "87806071",
   "metadata": {},
   "outputs": [
    {
     "data": {
      "text/plain": [
       "['Star Wars: Episode V - The Empire Strikes Back',\n",
       " 'Star Wars: Episode VI - Return of the Jedi',\n",
       " 'Star Wars: Episode IV - A New Hope',\n",
       " 'Princess Bride, The',\n",
       " 'E.T. the Extra-Terrestrial',\n",
       " 'L.A. Confidential',\n",
       " 'Wizard of Oz, The',\n",
       " 'Fargo',\n",
       " 'Men in Black',\n",
       " 'American Beauty']"
      ]
     },
     "execution_count": 42,
     "metadata": {},
     "output_type": "execute_result"
    }
   ],
   "source": [
    "get_top_n_most_liked_movies_by_gender(10, \"F\")"
   ]
  },
  {
   "cell_type": "code",
   "execution_count": null,
   "id": "3613569d",
   "metadata": {},
   "outputs": [],
   "source": []
  }
 ],
 "metadata": {
  "kernelspec": {
   "display_name": "Python 3 (ipykernel)",
   "language": "python",
   "name": "python3"
  },
  "language_info": {
   "codemirror_mode": {
    "name": "ipython",
    "version": 3
   },
   "file_extension": ".py",
   "mimetype": "text/x-python",
   "name": "python",
   "nbconvert_exporter": "python",
   "pygments_lexer": "ipython3",
   "version": "3.9.12"
  }
 },
 "nbformat": 4,
 "nbformat_minor": 5
}
