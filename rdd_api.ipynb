{
 "cells": [
  {
   "cell_type": "code",
   "execution_count": 3,
   "id": "5dd9393a-f459-4572-9cd1-840f3c241c92",
   "metadata": {},
   "outputs": [],
   "source": [
    "from pyspark.sql import SparkSession\n",
    "\n",
    "spark = SparkSession.builder.appName(\"rdd_api\").getOrCreate()"
   ]
  },
  {
   "cell_type": "markdown",
   "id": "4937d096-b2ff-40bc-b63e-83bb1506f5e0",
   "metadata": {},
   "source": [
    "## List of Distinct Genres"
   ]
  },
  {
   "cell_type": "code",
   "execution_count": 4,
   "id": "6578f504-ba4d-47fb-919a-f6a0b06afb11",
   "metadata": {},
   "outputs": [],
   "source": [
    "def get_all_genres():\n",
    "    movies_rdd = spark.sparkContext.textFile('movies.dat')\n",
    "    genres_rdd = movies_rdd.map(lambda x: x.split(\"::\")[2])\n",
    "    genres_rdd = genres_rdd.flatMap(lambda x: x.split(\"|\"))\n",
    "    distinct_genres_rdd = genres_rdd.distinct().sortBy(lambda x: x)\n",
    "    return distinct_genres_rdd.collect()"
   ]
  },
  {
   "cell_type": "code",
   "execution_count": 5,
   "id": "9f96a80c-1d8d-4903-a3e4-a91153e3c39c",
   "metadata": {},
   "outputs": [
    {
     "name": "stderr",
     "output_type": "stream",
     "text": [
      "[Stage 0:>                                                          (0 + 2) / 2]\r"
     ]
    },
    {
     "name": "stdout",
     "output_type": "stream",
     "text": [
      "['Action', 'Adventure', 'Animation', \"Children's\", 'Comedy', 'Crime', 'Documentary', 'Drama', 'Fantasy', 'Film-Noir', 'Horror', 'Musical', 'Mystery', 'Romance', 'Sci-Fi', 'Thriller', 'War', 'Western']\n"
     ]
    },
    {
     "name": "stderr",
     "output_type": "stream",
     "text": [
      "                                                                                \r"
     ]
    }
   ],
   "source": [
    "print(get_all_genres())"
   ]
  },
  {
   "cell_type": "code",
   "execution_count": 9,
   "id": "097f8c90-9a83-4bf7-95c7-6d4b99204621",
   "metadata": {},
   "outputs": [],
   "source": [
    "def get_list_of_years():\n",
    "    movies_rdd = spark.sparkContext.textFile('movies.dat')\n",
    "    title_year_rdd = movies_rdd.map(lambda x: x.split(\"::\")[1])\n",
    "    year_rdd = title_year_rdd.map(lambda x: x[-5:-1])\n",
    "    distinct_years_rdd = year_rdd.distinct().sortBy(lambda x: x)\n",
    "    return distinct_years_rdd.collect()"
   ]
  },
  {
   "cell_type": "code",
   "execution_count": 10,
   "id": "f68a4d6f-d90f-4bb4-82ec-dfc740753bb6",
   "metadata": {},
   "outputs": [
    {
     "name": "stdout",
     "output_type": "stream",
     "text": [
      "['1919', '1920', '1921', '1922', '1923', '1925', '1926', '1927', '1928', '1929', '1930', '1931', '1932', '1933', '1934', '1935', '1936', '1937', '1938', '1939', '1940', '1941', '1942', '1943', '1944', '1945', '1946', '1947', '1948', '1949', '1950', '1951', '1952', '1953', '1954', '1955', '1956', '1957', '1958', '1959', '1960', '1961', '1962', '1963', '1964', '1965', '1966', '1967', '1968', '1969', '1970', '1971', '1972', '1973', '1974', '1975', '1976', '1977', '1978', '1979', '1980', '1981', '1982', '1983', '1984', '1985', '1986', '1987', '1988', '1989', '1990', '1991', '1992', '1993', '1994', '1995', '1996', '1997', '1998', '1999', '2000']\n"
     ]
    }
   ],
   "source": [
    "print(get_list_of_years())"
   ]
  },
  {
   "cell_type": "code",
   "execution_count": 11,
   "id": "e669d3a9-c446-4efb-aafb-c51582aa8b49",
   "metadata": {},
   "outputs": [],
   "source": [
    "def get_list_of_starting_letters():\n",
    "    movies_rdd = spark.sparkContext.textFile('movies.dat')\n",
    "    title_year_rdd = movies_rdd.map(lambda x: x.split(\"::\")[1])\n",
    "    first_char_rdd = title_year_rdd.map(lambda x: x[0])\n",
    "    distinct_first_char_rdd = first_char_rdd.distinct().sortBy(lambda x: x)\n",
    "    return distinct_first_char_rdd.collect()"
   ]
  },
  {
   "cell_type": "code",
   "execution_count": 12,
   "id": "dd1135d8-abf9-4802-9df9-03413c574702",
   "metadata": {},
   "outputs": [
    {
     "name": "stdout",
     "output_type": "stream",
     "text": [
      "['$', \"'\", '.', '1', '2', '3', '4', '5', '7', '8', 'A', 'B', 'C', 'D', 'E', 'F', 'G', 'H', 'I', 'J', 'K', 'L', 'M', 'N', 'O', 'P', 'Q', 'R', 'S', 'T', 'U', 'V', 'W', 'X', 'Y', 'Z', 'e']\n"
     ]
    }
   ],
   "source": [
    "print(get_list_of_starting_letters())"
   ]
  },
  {
   "cell_type": "code",
   "execution_count": null,
   "id": "c95c5a33-d63e-46c2-892b-34e892333a92",
   "metadata": {},
   "outputs": [],
   "source": []
  }
 ],
 "metadata": {
  "kernelspec": {
   "display_name": "Python 3 (ipykernel)",
   "language": "python",
   "name": "python3"
  },
  "language_info": {
   "codemirror_mode": {
    "name": "ipython",
    "version": 3
   },
   "file_extension": ".py",
   "mimetype": "text/x-python",
   "name": "python",
   "nbconvert_exporter": "python",
   "pygments_lexer": "ipython3",
   "version": "3.9.12"
  }
 },
 "nbformat": 4,
 "nbformat_minor": 5
}
