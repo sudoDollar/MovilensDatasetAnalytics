{
 "cells": [
  {
   "cell_type": "code",
   "execution_count": 1,
   "id": "29768ffb-01ae-437d-a385-89c616b6746f",
   "metadata": {},
   "outputs": [
    {
     "name": "stderr",
     "output_type": "stream",
     "text": [
      "Setting default log level to \"WARN\".\n",
      "To adjust logging level use sc.setLogLevel(newLevel). For SparkR, use setLogLevel(newLevel).\n",
      "23/11/20 18:59:32 WARN NativeCodeLoader: Unable to load native-hadoop library for your platform... using builtin-java classes where applicable\n"
     ]
    }
   ],
   "source": [
    "from pyspark.sql import SparkSession\n",
    "\n",
    "spark = SparkSession.builder.appName(\"sql_api\").getOrCreate()"
   ]
  },
  {
   "cell_type": "code",
   "execution_count": 39,
   "id": "187e2124-6287-4e8f-bcd5-0bd240b8f958",
   "metadata": {},
   "outputs": [],
   "source": [
    "from pyspark.sql.functions import col, regexp_replace, split, explode, length, expr"
   ]
  },
  {
   "cell_type": "code",
   "execution_count": 3,
   "id": "560e39e2-14ff-4918-9adc-18723e8c09ea",
   "metadata": {},
   "outputs": [],
   "source": [
    "df = spark.read.csv(\"movies.dat\", sep='::', schema='MovieID int, oldTitle string, combinedGenres string')"
   ]
  },
  {
   "cell_type": "code",
   "execution_count": 56,
   "id": "43e5a401-3cf7-4418-8256-b4dcbdea15ac",
   "metadata": {},
   "outputs": [
    {
     "name": "stderr",
     "output_type": "stream",
     "text": [
      "                                                                                \r"
     ]
    }
   ],
   "source": [
    "# Split title_year column into title, year\n",
    "df = df.withColumn(\"len\", length(col(\"oldtitle\")))\n",
    "final_df = df.withColumn(\"Title\", expr(\"substring(oldTitle, 1, len - 7)\")).withColumn(\"Year\", expr(\"substring(oldTitle, len - 4, 4)\")).withColumn(\"Genres\", split(\"combinedGenres\", '\\\\|'))\n",
    "final_df = final_df.drop(\"oldTitle\", \"oldTitle_Modified\", \"Title_Year\", \"combinedGenres\", \"len\")\n",
    "movies_df = final_df.select(\"MovieID\", \"Title\", \"Year\", explode(\"Genres\").alias(\"Genre\"))\n",
    "movies_df.write.saveAsTable(\"movies\", mode=\"overwrite\")\n",
    "# movies_df.show()"
   ]
  },
  {
   "cell_type": "code",
   "execution_count": 57,
   "id": "802c9c68-2c61-4bbb-a406-90bb624de418",
   "metadata": {},
   "outputs": [],
   "source": [
    "movies_df = spark.read.table(\"movies\")"
   ]
  },
  {
   "cell_type": "markdown",
   "id": "e9e61cf9-0f22-4106-b751-553af0b27eaa",
   "metadata": {},
   "source": [
    "## Movies by genre"
   ]
  },
  {
   "cell_type": "code",
   "execution_count": 58,
   "id": "95f49c4f-3588-49f3-a85a-aa323ce5abbd",
   "metadata": {},
   "outputs": [],
   "source": [
    "def get_movies_by_genre(genre, num):\n",
    "    movies = movies_df.select(\"Title\").filter(movies_df[\"Genre\"] == genre)\n",
    "    return movies.rdd.flatMap(lambda x: x).take(num)"
   ]
  },
  {
   "cell_type": "code",
   "execution_count": 59,
   "id": "dae80852-ffc9-4df8-ac88-5b7e947eed1b",
   "metadata": {},
   "outputs": [
    {
     "name": "stdout",
     "output_type": "stream",
     "text": [
      "['Jumanji', 'Tom and Huck', 'GoldenEye', 'Cutthroat Island', 'City of Lost Children, The', 'Wings of Courage', 'Mortal Kombat', 'Kids of the Round Table', 'Indian in the Cupboard, The', 'White Squall', 'Muppet Treasure Island', 'Rumble in the Bronx', 'NeverEnding Story III, The', 'Amazing Panda Adventure, The', 'Batman Forever', 'Casper', 'Congo', 'First Knight', 'Free Willy 2: The Adventure Home', 'Judge Dredd']\n"
     ]
    }
   ],
   "source": [
    "print(get_movies_by_genre(\"Adventure\", 20))"
   ]
  },
  {
   "cell_type": "code",
   "execution_count": 60,
   "id": "0a379130-4151-4a81-875b-569d41027f1f",
   "metadata": {},
   "outputs": [],
   "source": [
    "def get_movies_count_by_genre(genre):\n",
    "    movies = movies_df.select(\"Title\").filter(movies_df[\"Genre\"] == genre)\n",
    "    return movies.rdd.flatMap(lambda x: x).count()"
   ]
  },
  {
   "cell_type": "code",
   "execution_count": 61,
   "id": "6ace15c8-dc95-464b-8717-eb0ee8386ca6",
   "metadata": {},
   "outputs": [
    {
     "name": "stdout",
     "output_type": "stream",
     "text": [
      "283\n"
     ]
    }
   ],
   "source": [
    "print(get_movies_count_by_genre(\"Adventure\"))"
   ]
  },
  {
   "cell_type": "code",
   "execution_count": 62,
   "id": "237a2039-4f1f-4073-b650-0a7f7cb35f88",
   "metadata": {},
   "outputs": [],
   "source": [
    "def get_movies_by_year(year, num):\n",
    "    movies = movies_df.select(\"Title\").filter(movies_df[\"Year\"] == int(year)).distinct()\n",
    "    return movies.rdd.flatMap(lambda x: x).take(num)"
   ]
  },
  {
   "cell_type": "code",
   "execution_count": 63,
   "id": "8fbe1327-822f-42c8-ae24-31e649a692bb",
   "metadata": {},
   "outputs": [
    {
     "name": "stdout",
     "output_type": "stream",
     "text": [
      "['Fright Night Part II', 'Honey, I Shrunk the Kids', 'Lethal Weapon 2', 'Police Academy 6: City Under Siege', 'Batman', 'For All Mankind', 'Do the Right Thing', 'My Left Foot', 'Indiana Jones and the Last Crusade', 'Christmas Vacation', 'Henry V', 'Killer, The (Die xue shuang xiong)', \"We're No Angels\", 'Crimes and Misdemeanors', 'Prancer', 'Drugstore Cowboy', 'Star Trek V: The Final Frontier', 'Abyss, The', 'Gods Must Be Crazy II, The', 'Communion']\n"
     ]
    }
   ],
   "source": [
    "print(get_movies_by_year(\"1989\", 20))"
   ]
  },
  {
   "cell_type": "code",
   "execution_count": 64,
   "id": "3c0d9e65-b752-4353-a855-fb6774e7ca7c",
   "metadata": {},
   "outputs": [],
   "source": [
    "def get_movies_count_by_year(year):\n",
    "    movies = movies_df.select(\"Title\").filter(movies_df[\"Year\"] == int(year)).distinct()\n",
    "    return movies.rdd.flatMap(lambda x: x).count()"
   ]
  },
  {
   "cell_type": "code",
   "execution_count": 65,
   "id": "f09d6e3c-0c75-436f-b9a8-59e4ec21e33d",
   "metadata": {},
   "outputs": [
    {
     "data": {
      "text/plain": [
       "60"
      ]
     },
     "execution_count": 65,
     "metadata": {},
     "output_type": "execute_result"
    }
   ],
   "source": [
    "get_movies_count_by_year(1989)"
   ]
  },
  {
   "cell_type": "code",
   "execution_count": 1,
   "id": "bfa4dc4b-acd5-44fa-9aca-91ec4409b53f",
   "metadata": {},
   "outputs": [
    {
     "name": "stdout",
     "output_type": "stream",
     "text": [
      "hello\n"
     ]
    }
   ],
   "source": [
    "print(\"hello\")"
   ]
  },
  {
   "cell_type": "code",
   "execution_count": null,
   "id": "63682911",
   "metadata": {},
   "outputs": [],
   "source": []
  }
 ],
 "metadata": {
  "kernelspec": {
   "display_name": "Python 3 (ipykernel)",
   "language": "python",
   "name": "python3"
  },
  "language_info": {
   "codemirror_mode": {
    "name": "ipython",
    "version": 3
   },
   "file_extension": ".py",
   "mimetype": "text/x-python",
   "name": "python",
   "nbconvert_exporter": "python",
   "pygments_lexer": "ipython3",
   "version": "3.9.12"
  }
 },
 "nbformat": 4,
 "nbformat_minor": 5
}
